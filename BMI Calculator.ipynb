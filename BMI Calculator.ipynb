{
 "cells": [
  {
   "cell_type": "markdown",
   "id": "bfb0351e-8401-4100-a1ac-e8ee0000dca6",
   "metadata": {},
   "source": [
    "# BMI Calculator"
   ]
  },
  {
   "cell_type": "code",
   "execution_count": null,
   "id": "be970a14-c433-4759-be9b-29c92d145836",
   "metadata": {},
   "outputs": [],
   "source": [
    "#BMI = (weight in kgs * 703)/(height in inches *height in inches)"
   ]
  },
  {
   "cell_type": "code",
   "execution_count": 7,
   "id": "86b67ca3-260e-4481-baf9-d52a7e9c66ef",
   "metadata": {},
   "outputs": [
    {
     "name": "stdin",
     "output_type": "stream",
     "text": [
      "Enter your Name: Sowmyarsi\n",
      "Enter Your Weight in Pounds: 130\n",
      "Enter Your Height in inches: 62\n"
     ]
    },
    {
     "name": "stdout",
     "output_type": "stream",
     "text": [
      "23.77471383975026\n",
      "SowmyarsiPerfect Dear,You Have Healthy Weight.\n"
     ]
    }
   ],
   "source": [
    "Name = input(\"Enter your Name:\")\n",
    "Weight = int(input(\"Enter Your Weight in Pounds:\"))\n",
    "Height = int(input(\"Enter Your Height in inches:\"))\n",
    "BMI = (Weight * 703)/( Height*Height)\n",
    "print(BMI)\n",
    "if BMI>0:\n",
    "    if(BMI<18.5):\n",
    "        print(Name+\" You are Underweight Dear,Start Your Weight Gain Journey.\")\n",
    "    elif(BMI<=24.9):\n",
    "        print(Name+\"Perfect Dear,You Have Healthy Weight.\")\n",
    "    elif(BMI<=29.9):\n",
    "         print(Name+\" You are Overweight Dear,Start Your Weight Loss Journey.\")\n",
    "    elif(BMI<=34.9):\n",
    "        print(Name+\" You have Obesity Dear, Visit a Doctor.\")\n",
    "    elif(BMI<=39.9):\n",
    "         print(Name+\"You have Severe Obesity Dear, Concult a Doctor.\")\n",
    "    else:\n",
    "         print(Name+\"You are Extremely Obese Dear.\")\n",
    "else:\n",
    "    print(\"Enter valid inputs\")\n"
   ]
  },
  {
   "cell_type": "code",
   "execution_count": null,
   "id": "e9377665-e5bc-4daa-9b58-a442ab2701a9",
   "metadata": {},
   "outputs": [],
   "source": []
  }
 ],
 "metadata": {
  "kernelspec": {
   "display_name": "Python 3 (ipykernel)",
   "language": "python",
   "name": "python3"
  },
  "language_info": {
   "codemirror_mode": {
    "name": "ipython",
    "version": 3
   },
   "file_extension": ".py",
   "mimetype": "text/x-python",
   "name": "python",
   "nbconvert_exporter": "python",
   "pygments_lexer": "ipython3",
   "version": "3.11.7"
  }
 },
 "nbformat": 4,
 "nbformat_minor": 5
}
